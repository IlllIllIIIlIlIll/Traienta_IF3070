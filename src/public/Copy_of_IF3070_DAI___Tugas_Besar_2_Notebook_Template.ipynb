{
 "cells": [
  {
   "cell_type": "markdown",
   "metadata": {
    "id": "uR1JW69eLfG_"
   },
   "source": [
    "# IF3070 Foundations of Artificial Intelligence | Tugas Besar 2\n",
    "\n",
    "This notebook serves as a template for the assignment. Please create a copy of this notebook to complete your work. You can add more code blocks, markdown blocks, or new sections if needed.\n"
   ]
  },
  {
   "cell_type": "markdown",
   "metadata": {
    "id": "ucbaI5rBLtjJ"
   },
   "source": [
    "Group Number: xx\n",
    "\n",
    "Group Members:\n",
    "- Name (NIM)\n",
    "- Name (NIM)\n",
    "- ..."
   ]
  },
  {
   "cell_type": "markdown",
   "metadata": {
    "id": "GwzsfETHLfHA"
   },
   "source": [
    "## Import Libraries"
   ]
  },
  {
   "cell_type": "code",
   "execution_count": 73,
   "metadata": {
    "id": "jZJU5W_4LfHB"
   },
   "outputs": [],
   "source": [
    "import re\n",
    "import pandas as pd\n",
    "import numpy as np\n",
    "from sklearn.model_selection import train_test_split\n",
    "\n",
    "# Import other libraries if needed\n",
    "# pd.set_option('display.max_colwidth', None) \n",
    "# pd.set_option('display.max_rows', None)     \n",
    "# pd.set_option('display.max_columns', None)  \n",
    "\n",
    "pd.reset_option('display.max_colwidth')\n",
    "pd.reset_option('display.max_rows')\n",
    "pd.reset_option('display.max_columns')"
   ]
  },
  {
   "cell_type": "markdown",
   "metadata": {
    "id": "OKbjLIdYLfHC"
   },
   "source": [
    "## Import Dataset"
   ]
  },
  {
   "cell_type": "code",
   "execution_count": 91,
   "metadata": {
    "colab": {
     "base_uri": "https://localhost:8080/"
    },
    "id": "-IWFJ-gdLfHD",
    "outputId": "210d12b0-a65d-473b-f0d4-6087db33ed81"
   },
   "outputs": [
    {
     "data": {
      "text/html": [
       "<div>\n",
       "<style scoped>\n",
       "    .dataframe tbody tr th:only-of-type {\n",
       "        vertical-align: middle;\n",
       "    }\n",
       "\n",
       "    .dataframe tbody tr th {\n",
       "        vertical-align: top;\n",
       "    }\n",
       "\n",
       "    .dataframe thead th {\n",
       "        text-align: right;\n",
       "    }\n",
       "</style>\n",
       "<table border=\"1\" class=\"dataframe\">\n",
       "  <thead>\n",
       "    <tr style=\"text-align: right;\">\n",
       "      <th></th>\n",
       "      <th>FILENAME</th>\n",
       "      <th>URL</th>\n",
       "      <th>URLLength</th>\n",
       "      <th>Domain</th>\n",
       "      <th>DomainLength</th>\n",
       "      <th>IsDomainIP</th>\n",
       "      <th>TLD</th>\n",
       "      <th>URLSimilarityIndex</th>\n",
       "      <th>CharContinuationRate</th>\n",
       "      <th>TLDLegitimateProb</th>\n",
       "      <th>...</th>\n",
       "      <th>Pay</th>\n",
       "      <th>Crypto</th>\n",
       "      <th>HasCopyrightInfo</th>\n",
       "      <th>NoOfImage</th>\n",
       "      <th>NoOfCSS</th>\n",
       "      <th>NoOfJS</th>\n",
       "      <th>NoOfSelfRef</th>\n",
       "      <th>NoOfEmptyRef</th>\n",
       "      <th>NoOfExternalRef</th>\n",
       "      <th>label</th>\n",
       "    </tr>\n",
       "  </thead>\n",
       "  <tbody>\n",
       "    <tr>\n",
       "      <th>0</th>\n",
       "      <td>521848.txt</td>\n",
       "      <td>https://www.southbankmosaics.com</td>\n",
       "      <td>31</td>\n",
       "      <td>www.southbankmosaics.com</td>\n",
       "      <td>24</td>\n",
       "      <td>0</td>\n",
       "      <td>com</td>\n",
       "      <td>100.0</td>\n",
       "      <td>1.000000</td>\n",
       "      <td>0.522907</td>\n",
       "      <td>...</td>\n",
       "      <td>0</td>\n",
       "      <td>0</td>\n",
       "      <td>1</td>\n",
       "      <td>34</td>\n",
       "      <td>20</td>\n",
       "      <td>28</td>\n",
       "      <td>119</td>\n",
       "      <td>0</td>\n",
       "      <td>124</td>\n",
       "      <td>1</td>\n",
       "    </tr>\n",
       "    <tr>\n",
       "      <th>1</th>\n",
       "      <td>31372.txt</td>\n",
       "      <td>https://www.uni-mainz.de</td>\n",
       "      <td>23</td>\n",
       "      <td>www.uni-mainz.de</td>\n",
       "      <td>16</td>\n",
       "      <td>0</td>\n",
       "      <td>de</td>\n",
       "      <td>100.0</td>\n",
       "      <td>0.666667</td>\n",
       "      <td>0.032650</td>\n",
       "      <td>...</td>\n",
       "      <td>0</td>\n",
       "      <td>0</td>\n",
       "      <td>1</td>\n",
       "      <td>50</td>\n",
       "      <td>9</td>\n",
       "      <td>8</td>\n",
       "      <td>39</td>\n",
       "      <td>0</td>\n",
       "      <td>217</td>\n",
       "      <td>1</td>\n",
       "    </tr>\n",
       "    <tr>\n",
       "      <th>2</th>\n",
       "      <td>597387.txt</td>\n",
       "      <td>https://www.voicefmradio.co.uk</td>\n",
       "      <td>29</td>\n",
       "      <td>www.voicefmradio.co.uk</td>\n",
       "      <td>22</td>\n",
       "      <td>0</td>\n",
       "      <td>uk</td>\n",
       "      <td>100.0</td>\n",
       "      <td>0.866667</td>\n",
       "      <td>0.028555</td>\n",
       "      <td>...</td>\n",
       "      <td>0</td>\n",
       "      <td>0</td>\n",
       "      <td>1</td>\n",
       "      <td>10</td>\n",
       "      <td>2</td>\n",
       "      <td>7</td>\n",
       "      <td>42</td>\n",
       "      <td>2</td>\n",
       "      <td>5</td>\n",
       "      <td>1</td>\n",
       "    </tr>\n",
       "    <tr>\n",
       "      <th>3</th>\n",
       "      <td>554095.txt</td>\n",
       "      <td>https://www.sfnmjournal.com</td>\n",
       "      <td>26</td>\n",
       "      <td>www.sfnmjournal.com</td>\n",
       "      <td>19</td>\n",
       "      <td>0</td>\n",
       "      <td>com</td>\n",
       "      <td>100.0</td>\n",
       "      <td>1.000000</td>\n",
       "      <td>0.522907</td>\n",
       "      <td>...</td>\n",
       "      <td>1</td>\n",
       "      <td>1</td>\n",
       "      <td>1</td>\n",
       "      <td>3</td>\n",
       "      <td>27</td>\n",
       "      <td>15</td>\n",
       "      <td>22</td>\n",
       "      <td>1</td>\n",
       "      <td>31</td>\n",
       "      <td>1</td>\n",
       "    </tr>\n",
       "    <tr>\n",
       "      <th>4</th>\n",
       "      <td>151578.txt</td>\n",
       "      <td>https://www.rewildingargentina.org</td>\n",
       "      <td>33</td>\n",
       "      <td>www.rewildingargentina.org</td>\n",
       "      <td>26</td>\n",
       "      <td>0</td>\n",
       "      <td>org</td>\n",
       "      <td>100.0</td>\n",
       "      <td>1.000000</td>\n",
       "      <td>0.079963</td>\n",
       "      <td>...</td>\n",
       "      <td>1</td>\n",
       "      <td>0</td>\n",
       "      <td>1</td>\n",
       "      <td>244</td>\n",
       "      <td>15</td>\n",
       "      <td>34</td>\n",
       "      <td>72</td>\n",
       "      <td>1</td>\n",
       "      <td>85</td>\n",
       "      <td>1</td>\n",
       "    </tr>\n",
       "  </tbody>\n",
       "</table>\n",
       "<p>5 rows × 56 columns</p>\n",
       "</div>"
      ],
      "text/plain": [
       "     FILENAME                                 URL  URLLength  \\\n",
       "0  521848.txt    https://www.southbankmosaics.com         31   \n",
       "1   31372.txt            https://www.uni-mainz.de         23   \n",
       "2  597387.txt      https://www.voicefmradio.co.uk         29   \n",
       "3  554095.txt         https://www.sfnmjournal.com         26   \n",
       "4  151578.txt  https://www.rewildingargentina.org         33   \n",
       "\n",
       "                       Domain  DomainLength  IsDomainIP  TLD  \\\n",
       "0    www.southbankmosaics.com            24           0  com   \n",
       "1            www.uni-mainz.de            16           0   de   \n",
       "2      www.voicefmradio.co.uk            22           0   uk   \n",
       "3         www.sfnmjournal.com            19           0  com   \n",
       "4  www.rewildingargentina.org            26           0  org   \n",
       "\n",
       "   URLSimilarityIndex  CharContinuationRate  TLDLegitimateProb  ...  Pay  \\\n",
       "0               100.0              1.000000           0.522907  ...    0   \n",
       "1               100.0              0.666667           0.032650  ...    0   \n",
       "2               100.0              0.866667           0.028555  ...    0   \n",
       "3               100.0              1.000000           0.522907  ...    1   \n",
       "4               100.0              1.000000           0.079963  ...    1   \n",
       "\n",
       "   Crypto  HasCopyrightInfo  NoOfImage  NoOfCSS  NoOfJS  NoOfSelfRef  \\\n",
       "0       0                 1         34       20      28          119   \n",
       "1       0                 1         50        9       8           39   \n",
       "2       0                 1         10        2       7           42   \n",
       "3       1                 1          3       27      15           22   \n",
       "4       0                 1        244       15      34           72   \n",
       "\n",
       "   NoOfEmptyRef  NoOfExternalRef  label  \n",
       "0             0              124      1  \n",
       "1             0              217      1  \n",
       "2             2                5      1  \n",
       "3             1               31      1  \n",
       "4             1               85      1  \n",
       "\n",
       "[5 rows x 56 columns]"
      ]
     },
     "execution_count": 91,
     "metadata": {},
     "output_type": "execute_result"
    }
   ],
   "source": [
    "# Example of reading a csv file from a gdrive link\n",
    "\n",
    "# Take the file id from the gdrive file url\n",
    "# https://drive.google.com/file/d/1ZUtiaty9RPXhpz5F2Sy3dFPHF4YIt5iU/view?usp=sharing => The file id is 1ZUtiaty9RPXhpz5F2Sy3dFPHF4YIt5iU\n",
    "# and then put it in this format:\n",
    "# https://drive.google.com/uc?id={file_id}\n",
    "# Don't forget to change the access to public\n",
    "\n",
    "# df = pd.read_csv('https://drive.google.com/uc?id=1ZUtiaty9RPXhpz5F2Sy3dFPHF4YIt5iU')\n",
    "# df.head()\n",
    "\n",
    "sample = pd.read_csv('https://drive.google.com/uc?id=14PntjRvR-yo95ZSHj9B5yjrhz8EDWm12')\n",
    "test = pd.read_csv('https://drive.google.com/uc?id=1KHe0M57H7pjt_SLqTPQAa18Bxr_HbjnT')\n",
    "# train = pd.read_csv('https://drive.google.com/uc?id=1thHVhP-KClx4K4JxO_ctokR7P14DxOOB')\n",
    "\n",
    "train = pd.read_csv('https://drive.google.com/uc?id=1q8FJa_HN74Nyjme_tpUFJ1ncQiPg1ffI')\n",
    "\n",
    "# sample.head()\n",
    "# test.head()\n",
    "train.head()"
   ]
  },
  {
   "cell_type": "markdown",
   "metadata": {
    "id": "gvx-gT3bLfHM"
   },
   "source": [
    "# 1. Split Training Set and Validation Set\n",
    "\n",
    "Splitting the training and validation set works as an early diagnostic towards the performance of the model we train. This is done before the preprocessing steps to **avoid data leakage inbetween the sets**. If you want to use k-fold cross-validation, split the data later and do the cleaning and preprocessing separately for each split.\n",
    "\n",
    "Note: For training, you should use the data contained in the `train` folder given by the TA. The `test` data is only used for kaggle submission."
   ]
  },
  {
   "cell_type": "code",
   "execution_count": 88,
   "metadata": {
    "id": "4yWCUFFBLfHM"
   },
   "outputs": [],
   "source": [
    "# Split training set and validation set here, store into variables train_set and val_set.\n",
    "# Remember to also keep the original training set before splitting. This will come important later.\n",
    "# train_set, val_set = ...\n",
    "\n",
    "# Split the data\n",
    "train_set, val_set = train_test_split(\n",
    "    train,\n",
    "    test_size=0.2,  # 20% for validation\n",
    "    stratify=train['label'],  # Ensure the same proportion of '0' and '1'\n",
    "    random_state=42  # Ensures reproducibility\n",
    ")"
   ]
  },
  {
   "cell_type": "code",
   "execution_count": 89,
   "metadata": {
    "colab": {
     "base_uri": "https://localhost:8080/"
    },
    "id": "ANaO5KggZzzp",
    "outputId": "264ac9ee-31fd-44e3-b605-727b9dee9713"
   },
   "outputs": [
    {
     "name": "stdout",
     "output_type": "stream",
     "text": [
      "Original dataset shape: (140404, 56)\n",
      "Training set shape: (112323, 56)\n",
      "Validation set shape: (28081, 56)\n",
      "Label distribution in training set:\n",
      " 1    0.924833\n",
      "0    0.075167\n",
      "Name: label, dtype: float64\n",
      "Label distribution in validation set:\n",
      " 1    0.924825\n",
      "0    0.075175\n",
      "Name: label, dtype: float64\n"
     ]
    }
   ],
   "source": [
    "# Display the shapes to verify\n",
    "print(\"Original dataset shape:\", train.shape)\n",
    "print(\"Training set shape:\", train_set.shape)\n",
    "print(\"Validation set shape:\", val_set.shape)\n",
    "\n",
    "# Verify the distribution of the target variable\n",
    "print(\"Label distribution in training set:\\n\", train_set['label'].value_counts(normalize=True))\n",
    "print(\"Label distribution in validation set:\\n\", val_set['label'].value_counts(normalize=True))"
   ]
  },
  {
   "cell_type": "markdown",
   "metadata": {
    "id": "IC14lmo_LfHN"
   },
   "source": [
    "# 2. Data Cleaning and Preprocessing\n",
    "\n",
    "This step is the first thing to be done once a Data Scientist have grasped a general knowledge of the data. Raw data is **seldom ready for training**, therefore steps need to be taken to clean and format the data for the Machine Learning model to interpret.\n",
    "\n",
    "By performing data cleaning and preprocessing, you ensure that your dataset is ready for model training, leading to more accurate and reliable machine learning results. These steps are essential for transforming raw data into a format that machine learning algorithms can effectively learn from and make predictions.\n",
    "\n",
    "We will give some common methods for you to try, but you only have to **at least implement one method for each process**. For each step that you will do, **please explain the reason why did you do that process. Write it in a markdown cell under the code cell you wrote.**"
   ]
  },
  {
   "cell_type": "markdown",
   "metadata": {
    "id": "p95_A8hSLfHY"
   },
   "source": [
    "## A. Data Cleaning\n",
    "\n",
    "**Data cleaning** is the crucial first step in preparing your dataset for machine learning. Raw data collected from various sources is often messy and may contain errors, missing values, and inconsistencies. Data cleaning involves the following steps:\n",
    "\n",
    "1. **Handling Missing Data:** Identify and address missing values in the dataset. This can include imputing missing values, removing rows or columns with excessive missing data, or using more advanced techniques like interpolation.\n",
    "\n",
    "2. **Dealing with Outliers:** Identify and handle outliers, which are data points significantly different from the rest of the dataset. Outliers can be removed or transformed to improve model performance.\n",
    "\n",
    "3. **Data Validation:** Check for data integrity and consistency. Ensure that data types are correct, categorical variables have consistent labels, and numerical values fall within expected ranges.\n",
    "\n",
    "4. **Removing Duplicates:** Identify and remove duplicate rows, as they can skew the model's training process and evaluation metrics.\n",
    "\n",
    "5. **Feature Engineering**: Create new features or modify existing ones to extract relevant information. This step can involve scaling, normalizing, or encoding features for better model interpretability."
   ]
  },
  {
   "cell_type": "markdown",
   "metadata": {
    "id": "_wruGao9LfHZ"
   },
   "source": [
    "### I. Handling Missing Data\n",
    "\n",
    "Missing data can adversely affect the performance and accuracy of machine learning models. There are several strategies to handle missing data in machine learning:\n",
    "\n",
    "1. **Data Imputation:**\n",
    "\n",
    "    a. **Mean, Median, or Mode Imputation:** For numerical features, you can replace missing values with the mean, median, or mode of the non-missing values in the same feature. This method is simple and often effective when data is missing at random.\n",
    "\n",
    "    b. **Constant Value Imputation:** You can replace missing values with a predefined constant value (e.g., 0) if it makes sense for your dataset and problem.\n",
    "\n",
    "    c. **Imputation Using Predictive Models:** More advanced techniques involve using predictive models to estimate missing values. For example, you can train a regression model to predict missing numerical values or a classification model to predict missing categorical values.\n",
    "\n",
    "2. **Deletion of Missing Data:**\n",
    "\n",
    "    a. **Listwise Deletion:** In cases where the amount of missing data is relatively small, you can simply remove rows with missing values from your dataset. However, this approach can lead to a loss of valuable information.\n",
    "\n",
    "    b. **Column (Feature) Deletion:** If a feature has a large number of missing values and is not critical for your analysis, you can consider removing that feature altogether.\n",
    "\n",
    "3. **Domain-Specific Strategies:**\n",
    "\n",
    "    a. **Domain Knowledge:** In some cases, domain knowledge can guide the imputation process. For example, if you know that missing values are related to a specific condition, you can impute them accordingly.\n",
    "\n",
    "4. **Imputation Libraries:**\n",
    "\n",
    "    a. **Scikit-Learn:** Scikit-Learn provides a `SimpleImputer` class that can handle basic imputation strategies like mean, median, and mode imputation.\n",
    "\n",
    "    b. **Fancyimpute:** Fancyimpute is a Python library that offers more advanced imputation techniques, including matrix factorization, k-nearest neighbors, and deep learning-based methods.\n",
    "\n",
    "The choice of imputation method should be guided by the nature of your data, the amount of missing data, the problem you are trying to solve, and the assumptions you are willing to make."
   ]
  },
  {
   "cell_type": "code",
   "execution_count": 84,
   "metadata": {},
   "outputs": [],
   "source": [
    "# TLDLength\n",
    "\n",
    "# NoOfSubDomain\n",
    "\n",
    "# HasObfuscation\n",
    "\n",
    "# NoOfObfuscatedChar\n",
    "\n",
    "# NoOfLettersInURL\n",
    "\n",
    "# NoOfDegitsInURL\n",
    "\n",
    "# NoOfEqualsInURL\n",
    "\n",
    "# NoOfQMarkInURL\n",
    "\n",
    "# NoOfAmpersandInURL\n",
    "\n",
    "# NoOfOtherSpecialCharsInURL\n",
    "\n",
    "# HasFavicon\n",
    "\n",
    "# Robots\n",
    "\n",
    "# IsResponsive\n",
    "\n",
    "# NoOfURLRedirect\n",
    "\n",
    "# NoOfSelfRedirect\n",
    "\n",
    "# HasDescription\n",
    "\n",
    "# NoOfPopup\n",
    "\n",
    "# NoOfiFrame\n",
    "\n",
    "# HasExternalFormSubmit\n",
    "\n",
    "# HasSocialNet\n",
    "\n",
    "# HasSubmitButton\n",
    "\n",
    "# HasHiddenFields\n",
    "\n",
    "# HasPasswordField\n",
    "\n",
    "# Bank\n",
    "\n",
    "# Pay\n",
    "\n",
    "# Crypto\n",
    "\n",
    "# HasCopyrightInfo\n",
    "\n",
    "# NoOfImage\n",
    "\n",
    "# NoOfCSS\n",
    "\n",
    "# NoOfJS\n",
    "\n",
    "# NoOfSelfRef\n",
    "\n",
    "# NoOfEmptyRef\n",
    "\n",
    "# NoOfExternalRef"
   ]
  },
  {
   "cell_type": "code",
   "execution_count": 85,
   "metadata": {},
   "outputs": [],
   "source": [
    "# Approach for TLDLength:\n",
    "# Directly calculate TLDLength from the length of the TLD column.\n",
    "def fill_tld_length(df):\n",
    "    df['TLDLength'] = df['TLD'].str.len()\n",
    "    return df\n",
    "\n",
    "# Approach for NoOfObfuscatedChar:\n",
    "# Parse obfuscated characters (e.g., %xx, \\x, \\u) directly from the URL.\n",
    "# If HasObfuscation or ObfuscationRatio is missing, calculate obfuscation from the URL.\n",
    "def get_obfuscated_chars(url):\n",
    "    obfuscated_chars = []\n",
    "    common_patterns = [r'%[0-9a-fA-F]{2}', r'\\\\x[0-9a-fA-F]{2}', r'\\\\u[0-9a-fA-F]{4}']\n",
    "    for pattern in common_patterns:\n",
    "        obfuscated_chars.extend(re.findall(pattern, url))\n",
    "    return len(obfuscated_chars)\n",
    "\n",
    "def fill_no_of_obfuscated_char(df):\n",
    "    df['NoOfObfuscatedChar'] = df.apply(\n",
    "        lambda row: get_obfuscated_chars(row['URL'])\n",
    "        if pd.isnull(row['HasObfuscation']) or pd.isnull(row['ObfuscationRatio'])\n",
    "        else round(row['ObfuscationRatio'] * row['URLLength']), axis=1\n",
    "    )\n",
    "    return df\n",
    "\n",
    "# Approach for HasObfuscation:\n",
    "# Set HasObfuscation to 1 if obfuscated characters exist in the URL.\n",
    "def fill_has_obfuscation(df):\n",
    "    df['HasObfuscation'] = df['NoOfObfuscatedChar'].apply(lambda x: 1 if x > 0 else 0)\n",
    "    return df\n",
    "\n",
    "# Approach for NoOfSubDomain:\n",
    "# Count subdomains in the Domain column by counting dots (.) and subtracting 1.\n",
    "def fill_no_of_subdomain(df):\n",
    "    df['NoOfSubDomain'] = df['NoOfSubDomain'].where(\n",
    "        ~df['NoOfSubDomain'].isnull(),  \n",
    "        df['Domain'].str.count(r'\\.') - 1 \n",
    "    )\n",
    "    return df\n",
    "\n",
    "# Approach for NoOfLettersInURL:\n",
    "# Parse the number of letters (alphabetic characters) in the URL directly.\n",
    "def fill_no_of_letters_in_url(df):\n",
    "    # Only compute for missing values\n",
    "    def count_letters_excluding_prefix(url):\n",
    "        # Remove http, https, and www\n",
    "        url_without_prefix = re.sub(r'^(https?://)?(www\\.)?', '', url)\n",
    "        # Count alphabetic characters using re.findall and subtract 1\n",
    "        return max(len(re.findall(r'[a-zA-Z]', url_without_prefix)), 0)\n",
    "\n",
    "    df['NoOfLettersInURL'] = df['NoOfLettersInURL'].where(\n",
    "        ~df['NoOfLettersInURL'].isnull(),  # Keep non-missing values\n",
    "        df['URL'].apply(count_letters_excluding_prefix)  # Apply custom function\n",
    "    )\n",
    "    return df\n",
    "\n",
    "# Approach for NoOfDegitsInURL:\n",
    "# Parse the number of digits in the URL directly.\n",
    "def fill_no_of_digits_in_url(df):\n",
    "    # Define a helper function to count digits excluding prefix\n",
    "    def count_digits_excluding_prefix(url):\n",
    "        # Remove http, https, and www\n",
    "        url_without_prefix = re.sub(r'^(https?://)?(www\\.)?', '', url)\n",
    "        # Count digits in the remaining part of the URL\n",
    "        return len(re.findall(r'[0-9]', url_without_prefix))\n",
    "    \n",
    "    # Apply the helper function to calculate the number of digits\n",
    "    df['NoOfDegitsInURL'] = df['NoOfDegitsInURL'].where(\n",
    "        ~df['NoOfDegitsInURL'].isnull(),  # Keep non-missing values\n",
    "        df['URL'].apply(count_digits_excluding_prefix)  # Calculate only for missing values\n",
    "    )\n",
    "    return df\n",
    "\n",
    "# Approach for NoOfEqualsInURL:\n",
    "# Count occurrences of = in the URL.\n",
    "def fill_no_of_equals_in_url(df):\n",
    "    df['NoOfEqualsInURL'] = df['URL'].str.count('=')\n",
    "    return df\n",
    "\n",
    "# Approach for NoOfQMarkInURL:\n",
    "# Count occurrences of ? in the URL.\n",
    "def fill_no_of_qmark_in_url(df):\n",
    "    # Define a helper function to count `?` excluding any escape misinterpretation\n",
    "    def count_qmarks(url):\n",
    "        # Remove http, https, and www\n",
    "        url_without_prefix = re.sub(r'^(https?://)?(www\\.)?', '', url)\n",
    "        # Count occurrences of `?`\n",
    "        return url_without_prefix.count('?')\n",
    "    \n",
    "    # Apply the helper function to calculate the number of `?`\n",
    "    df['NoOfQMarkInURL'] = df['NoOfQMarkInURL'].where(\n",
    "        ~df['NoOfQMarkInURL'].isnull(),  # Keep non-missing values\n",
    "        df['URL'].apply(count_qmarks)  # Calculate only for missing values\n",
    "    )\n",
    "    return df\n",
    "\n",
    "# Approach for NoOfAmpersandInURL:\n",
    "# Count occurrences of & in the URL.\n",
    "def fill_no_of_ampersand_in_url(df):\n",
    "    df['NoOfAmpersandInURL'] = df['URL'].str.count(r'&')\n",
    "    return df\n",
    "\n",
    "# Approach for NoOfOtherSpecialCharsInURL:\n",
    "# Count occurrences of special characters excluding a-zA-Z0-9, &, ?, and =.\n",
    "def fill_no_of_other_special_chars_in_url(df):\n",
    "    # Define a helper function to count special characters excluding a-zA-Z0-9, &, ?, and =\n",
    "    def count_other_special_chars(url):\n",
    "        # Remove http, https, and www\n",
    "        url_without_prefix = re.sub(r'^(https?://)?(www\\.)?', '', url)\n",
    "        # Use regex to count special characters excluding a-zA-Z0-9, &, ?, and =\n",
    "        return len(re.findall(r'[^a-zA-Z0-9&?=]', url_without_prefix))\n",
    "    \n",
    "    # Only compute for missing values in the column\n",
    "    df['NoOfOtherSpecialCharsInURL'] = df['NoOfOtherSpecialCharsInURL'].where(\n",
    "        ~df['NoOfOtherSpecialCharsInURL'].isnull(),  # Keep non-missing values\n",
    "        df['URL'].apply(count_other_special_chars)  # Calculate only for missing values\n",
    "    )\n",
    "    return df\n",
    "\n",
    "# Function to fill all features by parsing data from the URL and related columns.\n",
    "def fill_features_from_url(df):\n",
    "    df = fill_tld_length(df)\n",
    "    df = fill_no_of_obfuscated_char(df)\n",
    "    df = fill_has_obfuscation(df)\n",
    "    df = fill_no_of_subdomain(df)\n",
    "    df = fill_no_of_letters_in_url(df)\n",
    "    df = fill_no_of_digits_in_url(df)\n",
    "    df = fill_no_of_equals_in_url(df)\n",
    "    df = fill_no_of_qmark_in_url(df)\n",
    "    df = fill_no_of_ampersand_in_url(df)\n",
    "    df = fill_no_of_other_special_chars_in_url(df)\n",
    "    return df"
   ]
  },
  {
   "cell_type": "code",
   "execution_count": 97,
   "metadata": {},
   "outputs": [],
   "source": [
    "def fill_missing_values(df):\n",
    "    # Helper function to safely compute mode\n",
    "    def safe_mode(series):\n",
    "        if series.dropna().empty:  # Check if the column has no non-NaN values\n",
    "            return 0  # Default value for columns with all NaN (adjust as needed)\n",
    "        return series.mode()[0]\n",
    "\n",
    "    # Helper function to predict values based on correlated variables\n",
    "    def predict_based_on_correlation(row, correlated_features, threshold=0.5):\n",
    "        total_score = 0\n",
    "        count = 0\n",
    "        for feature in correlated_features:\n",
    "            if pd.notnull(row[feature]):\n",
    "                total_score += row[feature]\n",
    "                count += 1\n",
    "        if count == 0:  # If no correlated features have values, fallback to threshold\n",
    "            return safe_mode(pd.Series(correlated_features))\n",
    "        return 1 if (total_score / count) >= threshold else 0\n",
    "\n",
    "    # Fill missing values for each column\n",
    "\n",
    "    # < 0.3 correlation with label\n",
    "    df['NoOfURLRedirect'] = df['NoOfURLRedirect'].fillna(df['NoOfURLRedirect'].median())\n",
    "    df['NoOfSelfRedirect'] = df['NoOfSelfRedirect'].fillna(0)\n",
    "    df['NoOfPopup'] = df['NoOfPopup'].fillna(0)\n",
    "    df['NoOfiFrame'] = df['NoOfiFrame'].fillna(0)\n",
    "    df['HasExternalFormSubmit'] = df['HasExternalFormSubmit'].fillna(safe_mode(df['HasExternalFormSubmit']))\n",
    "    df['HasPasswordField'] = df['HasPasswordField'].fillna(safe_mode(df['HasPasswordField']))\n",
    "    df['Bank'] = df['Bank'].fillna(0)\n",
    "    df['Crypto'] = df['Crypto'].fillna(0)\n",
    "    df['NoOfImage'] = df['NoOfImage'].fillna(df['NoOfImage'].median())\n",
    "    df['NoOfCSS'] = df['NoOfCSS'].fillna(df['NoOfCSS'].median())\n",
    "    df['NoOfEmptyRef'] = df['NoOfEmptyRef'].fillna(0)\n",
    "    df['NoOfExternalRef'] = df['NoOfExternalRef'].fillna(df['NoOfExternalRef'].median())\n",
    "\n",
    "    # < 0.5 correlation with label\n",
    "    df['Robots'] = df['Robots'].fillna(safe_mode(df['Robots']))\n",
    "    df['Pay'] = df['Pay'].fillna(safe_mode(df['Pay']))\n",
    "    df['NoOfJS'] = df['NoOfJS'].fillna(df['NoOfJS'].median())\n",
    "    df['NoOfSelfRef'] = df['NoOfSelfRef'].fillna(0)\n",
    "    df['HasFavicon'] = df['HasFavicon'].fillna(safe_mode(df['HasFavicon'])) \n",
    "\n",
    "    # >= 0.45 correlation with label, use correlated variables for imputation\n",
    "    df['HasSocialNet'] = df['HasSocialNet'].where(\n",
    "        ~df['HasSocialNet'].isnull(),\n",
    "        df.apply(lambda row: predict_based_on_correlation(row, ['URLSimilarityIndex']), axis=1)\n",
    "    )\n",
    "    \n",
    "    df['HasHiddenFields'] = df['HasHiddenFields'].where(\n",
    "        ~df['HasHiddenFields'].isnull(),\n",
    "        df.apply(lambda row: predict_based_on_correlation(row, ['HasSocialNet', 'HasSubmitButton']), axis=1)\n",
    "    )\n",
    "    \n",
    "    df['HasSubmitButton'] = df['HasSubmitButton'].where(\n",
    "        ~df['HasSubmitButton'].isnull(),\n",
    "        df.apply(lambda row: predict_based_on_correlation(row, ['HasSocialNet', 'HasHiddenFields']), axis=1)\n",
    "    )\n",
    "    \n",
    "    df['HasCopyrightInfo'] = df['HasCopyrightInfo'].where(\n",
    "        ~df['HasCopyrightInfo'].isnull(),\n",
    "        df.apply(lambda row: predict_based_on_correlation(row, ['URLSimilarityIndex', 'HasSocialNet', 'HasSubmitButton']), axis=1)\n",
    "    )\n",
    "    \n",
    "    df['HasDescription'] = df['HasDescription'].where(\n",
    "        ~df['HasDescription'].isnull(),\n",
    "        df.apply(lambda row: predict_based_on_correlation(row, ['URLSimilarityIndex', 'HasSocialNet', 'HasCopyrightInfo']), axis=1)\n",
    "    )\n",
    "    \n",
    "    df['IsResponsive'] = df['IsResponsive'].where(\n",
    "        ~df['IsResponsive'].isnull(),\n",
    "        df.apply(lambda row: predict_based_on_correlation(row, ['IsHTTPS', 'HasSocialNet', 'HasCopyrightInfo', 'HasDescription']), axis=1)\n",
    "    )\n",
    "    \n",
    "    return df\n"
   ]
  },
  {
   "cell_type": "code",
   "execution_count": 94,
   "metadata": {},
   "outputs": [
    {
     "name": "stderr",
     "output_type": "stream",
     "text": [
      "C:\\Users\\FAVIAN\\AppData\\Local\\Packages\\PythonSoftwareFoundation.Python.3.10_qbz5n2kfra8p0\\LocalCache\\local-packages\\Python310\\site-packages\\numpy\\lib\\nanfunctions.py:1215: RuntimeWarning: Mean of empty slice\n",
      "  return np.nanmean(a, axis, out=out, keepdims=keepdims)\n",
      "C:\\Users\\FAVIAN\\AppData\\Local\\Packages\\PythonSoftwareFoundation.Python.3.10_qbz5n2kfra8p0\\LocalCache\\local-packages\\Python310\\site-packages\\numpy\\lib\\nanfunctions.py:1215: RuntimeWarning: Mean of empty slice\n",
      "  return np.nanmean(a, axis, out=out, keepdims=keepdims)\n",
      "C:\\Users\\FAVIAN\\AppData\\Local\\Packages\\PythonSoftwareFoundation.Python.3.10_qbz5n2kfra8p0\\LocalCache\\local-packages\\Python310\\site-packages\\numpy\\lib\\nanfunctions.py:1215: RuntimeWarning: Mean of empty slice\n",
      "  return np.nanmean(a, axis, out=out, keepdims=keepdims)\n",
      "C:\\Users\\FAVIAN\\AppData\\Local\\Packages\\PythonSoftwareFoundation.Python.3.10_qbz5n2kfra8p0\\LocalCache\\local-packages\\Python310\\site-packages\\numpy\\lib\\nanfunctions.py:1215: RuntimeWarning: Mean of empty slice\n",
      "  return np.nanmean(a, axis, out=out, keepdims=keepdims)\n",
      "C:\\Users\\FAVIAN\\AppData\\Local\\Packages\\PythonSoftwareFoundation.Python.3.10_qbz5n2kfra8p0\\LocalCache\\local-packages\\Python310\\site-packages\\numpy\\lib\\nanfunctions.py:1215: RuntimeWarning: Mean of empty slice\n",
      "  return np.nanmean(a, axis, out=out, keepdims=keepdims)\n"
     ]
    },
    {
     "name": "stdout",
     "output_type": "stream",
     "text": [
      "                       Feature  Missing Before  Missing After  Values Changed\n",
      "0                    TLDLength               0              0               0\n",
      "1                NoOfSubDomain               0              0               0\n",
      "2               HasObfuscation               0              0             402\n",
      "3           NoOfObfuscatedChar               0              0             797\n",
      "4             NoOfLettersInURL               0              0          172772\n",
      "5              NoOfDegitsInURL               0              0            1210\n",
      "6              NoOfEqualsInURL               0              0             249\n",
      "7               NoOfQMarkInURL               0              0              12\n",
      "8           NoOfAmpersandInURL               0              0            3172\n",
      "9   NoOfOtherSpecialCharsInURL               0              0           16653\n",
      "10                  HasFavicon               0              0           85303\n",
      "11                      Robots               0              0           62849\n",
      "12                IsResponsive               0              0           88530\n",
      "13             NoOfURLRedirect               0         235795          235795\n",
      "14            NoOfSelfRedirect               0              0            9457\n",
      "15              HasDescription               0              0          131998\n",
      "16                   NoOfPopup               0              0           13411\n",
      "17                  NoOfiFrame               0              0           78598\n",
      "18       HasExternalFormSubmit               0              0           10372\n",
      "19                HasSocialNet               0              0          128130\n",
      "20             HasSubmitButton               0              0          138101\n",
      "21             HasHiddenFields               0              0          146710\n",
      "22            HasPasswordField               0              0           24113\n",
      "23                        Bank               0              0           29967\n",
      "24                         Pay               0              0           55885\n",
      "25                      Crypto               0              0            5535\n",
      "26            HasCopyrightInfo               0              0          121018\n",
      "27                   NoOfImage               0         235795          235795\n",
      "28                     NoOfCSS               0         235795          235795\n",
      "29                      NoOfJS               0         235795          235795\n",
      "30                 NoOfSelfRef               0              0          151450\n",
      "31                NoOfEmptyRef               0              0           72446\n",
      "32             NoOfExternalRef               0         235795          235795\n"
     ]
    }
   ],
   "source": [
    "def compare_train_and_copy(original_df, imputed_df, feature_columns):\n",
    "    \"\"\"\n",
    "    Compare original DataFrame with imputed DataFrame and evaluate differences.\n",
    "    \n",
    "    Args:\n",
    "    - original_df (DataFrame): The original DataFrame with missing values.\n",
    "    - imputed_df (DataFrame): The DataFrame after imputation.\n",
    "    - feature_columns (list): List of columns to compare.\n",
    "\n",
    "    Returns:\n",
    "    - results (DataFrame): DataFrame summarizing the changes per column.\n",
    "    \"\"\"\n",
    "    results = []\n",
    "    for column in feature_columns:\n",
    "        original_values = original_df[column]\n",
    "        imputed_values = imputed_df[column]\n",
    "        \n",
    "        # Count differences\n",
    "        num_missing_original = original_values.isnull().sum()\n",
    "        num_missing_imputed = imputed_values.isnull().sum()\n",
    "        num_changed = (original_values != imputed_values).sum()\n",
    "        \n",
    "        # Collect results\n",
    "        results.append({\n",
    "            \"Feature\": column,\n",
    "            \"Missing Before\": num_missing_original,\n",
    "            \"Missing After\": num_missing_imputed,\n",
    "            \"Values Changed\": num_changed\n",
    "        })\n",
    "    \n",
    "    return pd.DataFrame(results)\n",
    "\n",
    "\n",
    "# Create a copy of the train dataset\n",
    "train_copy = train.copy()\n",
    "\n",
    "# Initialize the specified columns with NaN values\n",
    "features_to_test = [\n",
    "    \"TLDLength\", \"NoOfSubDomain\", \"HasObfuscation\", \"NoOfObfuscatedChar\", \n",
    "    \"NoOfLettersInURL\", \"NoOfDegitsInURL\", \"NoOfEqualsInURL\", \"NoOfQMarkInURL\",\n",
    "    \"NoOfAmpersandInURL\", \"NoOfOtherSpecialCharsInURL\", \"HasFavicon\", \"Robots\", \n",
    "    \"IsResponsive\", \"NoOfURLRedirect\", \"NoOfSelfRedirect\", \"HasDescription\",\n",
    "    \"NoOfPopup\", \"NoOfiFrame\", \"HasExternalFormSubmit\", \"HasSocialNet\", \n",
    "    \"HasSubmitButton\", \"HasHiddenFields\", \"HasPasswordField\", \"Bank\", \"Pay\", \n",
    "    \"Crypto\", \"HasCopyrightInfo\", \"NoOfImage\", \"NoOfCSS\", \"NoOfJS\", \n",
    "    \"NoOfSelfRef\", \"NoOfEmptyRef\", \"NoOfExternalRef\"\n",
    "]\n",
    "\n",
    "# Ensure all the specified columns exist and are initialized with NaN\n",
    "for feature in features_to_test:\n",
    "    train_copy[feature] = np.nan\n",
    "\n",
    "# Step 2: Impute missing values using the provided function { Fungsi cleaning nya }\n",
    "train_copy = fill_features_from_url(train_copy)\n",
    "train_copy = fill_missing_values(train_copy)\n",
    "\n",
    "# Step 3: Evaluate imputation\n",
    "evaluation_results = compare_train_and_copy(train, train_copy, features_to_test)\n",
    "\n",
    "# Display results\n",
    "# Display the evaluation results\n",
    "print(evaluation_results)"
   ]
  },
  {
   "cell_type": "code",
   "execution_count": 96,
   "metadata": {},
   "outputs": [
    {
     "name": "stdout",
     "output_type": "stream",
     "text": [
      "Original DataFrame Differing Rows:\n",
      "                                                      URL  URLSimilarityIndex  \\\n",
      "0                        https://www.southbankmosaics.com          100.000000   \n",
      "2                          https://www.voicefmradio.co.uk          100.000000   \n",
      "11                                http://www.teramill.com           82.644628   \n",
      "12                           https://www.socialpolicy.org          100.000000   \n",
      "15                              https://www.brightika.com          100.000000   \n",
      "...                                                   ...                 ...   \n",
      "235783        https://bancolombia.com1home0892.repl.co/?2           47.074830   \n",
      "235784                 https://aol-108318.weeblysite.com/           66.720000   \n",
      "235785                  https://www.virginiakraljevic.com          100.000000   \n",
      "235786                     https://www.chilconference.org          100.000000   \n",
      "235793  https://patient-cell-40f5.updatedlogmylogin.wo...           28.157537   \n",
      "\n",
      "        HasSocialNet  \n",
      "0                  0  \n",
      "2                  0  \n",
      "11                 0  \n",
      "12                 0  \n",
      "15                 0  \n",
      "...              ...  \n",
      "235783             0  \n",
      "235784             0  \n",
      "235785             0  \n",
      "235786             0  \n",
      "235793             0  \n",
      "\n",
      "[128130 rows x 3 columns]\n",
      "\n",
      "Imputed DataFrame Differing Rows:\n",
      "                                                      URL  URLSimilarityIndex  \\\n",
      "0                        https://www.southbankmosaics.com          100.000000   \n",
      "2                          https://www.voicefmradio.co.uk          100.000000   \n",
      "11                                http://www.teramill.com           82.644628   \n",
      "12                           https://www.socialpolicy.org          100.000000   \n",
      "15                              https://www.brightika.com          100.000000   \n",
      "...                                                   ...                 ...   \n",
      "235783        https://bancolombia.com1home0892.repl.co/?2           47.074830   \n",
      "235784                 https://aol-108318.weeblysite.com/           66.720000   \n",
      "235785                  https://www.virginiakraljevic.com          100.000000   \n",
      "235786                     https://www.chilconference.org          100.000000   \n",
      "235793  https://patient-cell-40f5.updatedlogmylogin.wo...           28.157537   \n",
      "\n",
      "        HasSocialNet  \n",
      "0                1.0  \n",
      "2                1.0  \n",
      "11               1.0  \n",
      "12               1.0  \n",
      "15               1.0  \n",
      "...              ...  \n",
      "235783           1.0  \n",
      "235784           1.0  \n",
      "235785           1.0  \n",
      "235786           1.0  \n",
      "235793           1.0  \n",
      "\n",
      "[128130 rows x 3 columns]\n"
     ]
    }
   ],
   "source": [
    "def compare_specific_columns(original_df, imputed_df, column_names):\n",
    "    \"\"\"\n",
    "    Compare specific columns between original and imputed DataFrames.\n",
    "\n",
    "    Args:\n",
    "    - original_df (DataFrame): The original DataFrame.\n",
    "    - imputed_df (DataFrame): The imputed DataFrame.\n",
    "    - column_names (list): List of column names to compare.\n",
    "\n",
    "    Returns:\n",
    "    - DataFrame with rows where values differ in the specified columns.\n",
    "    \"\"\"\n",
    "    # Filter rows where any specified column's values are different\n",
    "    differing_rows = original_df[column_names].ne(imputed_df[column_names]).any(axis=1)\n",
    "    return original_df.loc[differing_rows, column_names], imputed_df.loc[differing_rows, column_names]\n",
    "\n",
    "# Columns to compare\n",
    "columns_to_compare = ['URL', 'URLSimilarityIndex', 'HasSocialNet']\n",
    "# 'IsResponsive', 'HasDescription'\n",
    "\n",
    "# Compare specific columns and get the differing rows\n",
    "original_differing, imputed_differing = compare_specific_columns(train, train_copy, columns_to_compare)\n",
    "\n",
    "# Display the differing rows for inspection\n",
    "print(\"Original DataFrame Differing Rows:\")\n",
    "print(original_differing)\n",
    "print(\"\\nImputed DataFrame Differing Rows:\")\n",
    "print(imputed_differing)\n"
   ]
  },
  {
   "cell_type": "markdown",
   "metadata": {
    "id": "zgrSMcK75VY_"
   },
   "source": [
    "### II. Dealing with Outliers\n",
    "\n",
    "Outliers are data points that significantly differ from the majority of the data. They can be unusually high or low values that do not fit the pattern of the rest of the dataset. Outliers can significantly impact model performance, so it is important to handle them properly.\n",
    "\n",
    "Some methods to handle outliers:\n",
    "1. **Imputation**: Replace with mean, median, or a boundary value.\n",
    "2. **Clipping**: Cap values to upper and lower limits.\n",
    "3. **Transformation**: Use log, square root, or power transformations to reduce their influence.\n",
    "4. **Model-Based**: Use algorithms robust to outliers (e.g., tree-based models, Huber regression)."
   ]
  },
  {
   "cell_type": "code",
   "execution_count": 69,
   "metadata": {
    "id": "CgbZ6Lv17Uf0"
   },
   "outputs": [],
   "source": [
    "# Write your code here"
   ]
  },
  {
   "cell_type": "markdown",
   "metadata": {
    "id": "aO0ZEZ-s6Lu-"
   },
   "source": [
    "### III. Remove Duplicates\n",
    "Handling duplicate values is crucial because they can compromise data integrity, leading to inaccurate analysis and insights. Duplicate entries can bias machine learning models, causing overfitting and reducing their ability to generalize to new data. They also inflate the dataset size unnecessarily, increasing computational costs and processing times. Additionally, duplicates can distort statistical measures and lead to inconsistencies, ultimately affecting the reliability of data-driven decisions and reporting. Ensuring data quality by removing duplicates is essential for accurate, efficient, and consistent analysis."
   ]
  },
  {
   "cell_type": "code",
   "execution_count": 70,
   "metadata": {
    "id": "BHCkkZ-v7iF8"
   },
   "outputs": [],
   "source": [
    "# Write your code here"
   ]
  },
  {
   "cell_type": "markdown",
   "metadata": {
    "id": "eycPASmMLfHa"
   },
   "source": [
    "### IV. Feature Engineering\n",
    "\n",
    "**Feature engineering** involves creating new features (input variables) or transforming existing ones to improve the performance of machine learning models. Feature engineering aims to enhance the model's ability to learn patterns and make accurate predictions from the data. It's often said that \"good features make good models.\"\n",
    "\n",
    "1. **Feature Selection:** Feature engineering can involve selecting the most relevant and informative features from the dataset. Removing irrelevant or redundant features not only simplifies the model but also reduces the risk of overfitting.\n",
    "\n",
    "2. **Creating New Features:** Sometimes, the existing features may not capture the underlying patterns effectively. In such cases, engineers create new features that provide additional information. For example:\n",
    "   \n",
    "   - **Polynomial Features:** Engineers may create new features by taking the square, cube, or other higher-order terms of existing numerical features. This can help capture nonlinear relationships.\n",
    "   \n",
    "   - **Interaction Features:** Interaction features are created by combining two or more existing features. For example, if you have features \"length\" and \"width,\" you can create an \"area\" feature by multiplying them.\n",
    "\n",
    "3. **Binning or Discretization:** Continuous numerical features can be divided into bins or categories. For instance, age values can be grouped into bins like \"child,\" \"adult,\" and \"senior.\"\n",
    "\n",
    "4. **Domain-Specific Feature Engineering:** Depending on the domain and problem, engineers may create domain-specific features. For example, in fraud detection, features related to transaction history and user behavior may be engineered to identify anomalies.\n",
    "\n",
    "Feature engineering is both a creative and iterative process. It requires a deep understanding of the data, domain knowledge, and experimentation to determine which features will enhance the model's predictive power."
   ]
  },
  {
   "cell_type": "code",
   "execution_count": 71,
   "metadata": {
    "id": "UoXEV6wkLfHa"
   },
   "outputs": [],
   "source": [
    "# Write your code here"
   ]
  },
  {
   "cell_type": "markdown",
   "metadata": {
    "id": "xw11_49xLfHb"
   },
   "source": [
    "## B. Data Preprocessing\n",
    "\n",
    "**Data preprocessing** is a broader step that encompasses both data cleaning and additional transformations to make the data suitable for machine learning algorithms. Its primary goals are:\n",
    "\n",
    "1. **Feature Scaling:** Ensure that numerical features have similar scales. Common techniques include Min-Max scaling (scaling to a specific range) or standardization (mean-centered, unit variance).\n",
    "\n",
    "2. **Encoding Categorical Variables:** Machine learning models typically work with numerical data, so categorical variables need to be encoded. This can be done using one-hot encoding, label encoding, or more advanced methods like target encoding.\n",
    "\n",
    "3. **Handling Imbalanced Classes:** If dealing with imbalanced classes in a binary classification task, apply techniques such as oversampling, undersampling, or using different evaluation metrics to address class imbalance.\n",
    "\n",
    "4. **Dimensionality Reduction:** Reduce the number of features using techniques like Principal Component Analysis (PCA) or feature selection to simplify the model and potentially improve its performance.\n",
    "\n",
    "5. **Normalization:** Normalize data to achieve a standard distribution. This is particularly important for algorithms that assume normally distributed data."
   ]
  },
  {
   "cell_type": "markdown",
   "metadata": {
    "id": "rVyVnA1hLfHd"
   },
   "source": [
    "### Notes on Preprocessing processes\n",
    "\n",
    "It is advised to create functions or classes that have the same/similar type of inputs and outputs, so you can add, remove, or swap the order of the processes easily. You can implement the functions or classes by yourself\n",
    "\n",
    "or\n",
    "\n",
    "use `sklearn` library. To create a new preprocessing component in `sklearn`, implement a corresponding class that includes:\n",
    "1. Inheritance to `BaseEstimator` and `TransformerMixin`\n",
    "2. The method `fit`\n",
    "3. The method `transform`"
   ]
  },
  {
   "cell_type": "code",
   "execution_count": 11,
   "metadata": {
    "id": "WbxHt-5eKz_I"
   },
   "outputs": [],
   "source": [
    "# Example\n",
    "\n",
    "# from sklearn.base import BaseEstimator, TransformerMixin\n",
    "\n",
    "# class FeatureEncoder(BaseEstimator, TransformerMixin):\n",
    "\n",
    "#     def fit(self, X, y=None):\n",
    "\n",
    "#         # Fit the encoder here\n",
    "\n",
    "#         return self\n",
    "\n",
    "#     def transform(self, X):\n",
    "#         X_encoded = X.copy()\n",
    "\n",
    "#         # Encode the categorical variables here\n",
    "\n",
    "#         return X_encoded"
   ]
  },
  {
   "cell_type": "markdown",
   "metadata": {
    "id": "WhCgOl4xLfHb"
   },
   "source": [
    "### I. Feature Scaling\n",
    "\n",
    "**Feature scaling** is a preprocessing technique used in machine learning to standardize the range of independent variables or features of data. The primary goal of feature scaling is to ensure that all features contribute equally to the training process and that machine learning algorithms can work effectively with the data.\n",
    "\n",
    "Here are the main reasons why feature scaling is important:\n",
    "\n",
    "1. **Algorithm Sensitivity:** Many machine learning algorithms are sensitive to the scale of input features. If the scales of features are significantly different, some algorithms may perform poorly or take much longer to converge.\n",
    "\n",
    "2. **Distance-Based Algorithms:** Algorithms that rely on distances or similarities between data points, such as k-nearest neighbors (KNN) and support vector machines (SVM), can be influenced by feature scales. Features with larger scales may dominate the distance calculations.\n",
    "\n",
    "3. **Regularization:** Regularization techniques, like L1 (Lasso) and L2 (Ridge) regularization, add penalty terms based on feature coefficients. Scaling ensures that all features are treated equally in the regularization process.\n",
    "\n",
    "Common methods for feature scaling include:\n",
    "\n",
    "1. **Min-Max Scaling (Normalization):** This method scales features to a specific range, typically [0, 1]. It's done using the following formula:\n",
    "\n",
    "   $$X' = \\frac{X - X_{min}}{X_{max} - X_{min}}$$\n",
    "\n",
    "   - Here, $X$ is the original feature value, $X_{min}$ is the minimum value of the feature, and $X_{max}$ is the maximum value of the feature.  \n",
    "<br />\n",
    "<br />\n",
    "2. **Standardization (Z-score Scaling):** This method scales features to have a mean (average) of 0 and a standard deviation of 1. It's done using the following formula:\n",
    "\n",
    "   $$X' = \\frac{X - \\mu}{\\sigma}$$\n",
    "\n",
    "   - $X$ is the original feature value, $\\mu$ is the mean of the feature, and $\\sigma$ is the standard deviation of the feature.  \n",
    "<br />\n",
    "<br />\n",
    "3. **Robust Scaling:** Robust scaling is a method that scales features to the interquartile range (IQR) and is less affected by outliers. It's calculated as:\n",
    "\n",
    "   $$X' = \\frac{X - Q1}{Q3 - Q1}$$\n",
    "\n",
    "   - $X$ is the original feature value, $Q1$ is the first quartile (25th percentile), and $Q3$ is the third quartile (75th percentile) of the feature.  \n",
    "<br />\n",
    "<br />\n",
    "4. **Log Transformation:** In cases where data is highly skewed or has a heavy-tailed distribution, taking the logarithm of the feature values can help stabilize the variance and improve scaling.\n",
    "\n",
    "The choice of scaling method depends on the characteristics of your data and the requirements of your machine learning algorithm. **Min-max scaling and standardization are the most commonly used techniques and work well for many datasets.**\n",
    "\n",
    "Scaling should be applied separately to each training and test set to prevent data leakage from the test set into the training set. Additionally, **some algorithms may not require feature scaling, particularly tree-based models.**"
   ]
  },
  {
   "cell_type": "code",
   "execution_count": 12,
   "metadata": {
    "id": "COef9EbCLfHb"
   },
   "outputs": [],
   "source": [
    "# Write your code here"
   ]
  },
  {
   "cell_type": "markdown",
   "metadata": {
    "id": "f_Lh-4JwLfHc"
   },
   "source": [
    "### II. Feature Encoding\n",
    "\n",
    "**Feature encoding**, also known as **categorical encoding**, is the process of converting categorical data (non-numeric data) into a numerical format so that it can be used as input for machine learning algorithms. Most machine learning models require numerical data for training and prediction, so feature encoding is a critical step in data preprocessing.\n",
    "\n",
    "Categorical data can take various forms, including:\n",
    "\n",
    "1. **Nominal Data:** Categories with no intrinsic order, like colors or country names.  \n",
    "\n",
    "2. **Ordinal Data:** Categories with a meaningful order but not necessarily equidistant, like education levels (e.g., \"high school,\" \"bachelor's,\" \"master's\").\n",
    "\n",
    "There are several common methods for encoding categorical data:\n",
    "\n",
    "1. **Label Encoding:**\n",
    "\n",
    "   - Label encoding assigns a unique integer to each category in a feature.\n",
    "   - It's suitable for ordinal data where there's a clear order among categories.\n",
    "   - For example, if you have an \"education\" feature with values \"high school,\" \"bachelor's,\" and \"master's,\" you can encode them as 0, 1, and 2, respectively.\n",
    "<br />\n",
    "<br />\n",
    "2. **One-Hot Encoding:**\n",
    "\n",
    "   - One-hot encoding creates a binary (0 or 1) column for each category in a nominal feature.\n",
    "   - It's suitable for nominal data where there's no inherent order among categories.\n",
    "   - Each category becomes a new feature, and the presence (1) or absence (0) of a category is indicated for each row.\n",
    "<br />\n",
    "<br />\n",
    "3. **Target Encoding (Mean Encoding):**\n",
    "\n",
    "   - Target encoding replaces each category with the mean of the target variable for that category.\n",
    "   - It's often used for classification problems."
   ]
  },
  {
   "cell_type": "code",
   "execution_count": 13,
   "metadata": {
    "id": "psElSUugLfHc"
   },
   "outputs": [],
   "source": [
    "# Write your code here"
   ]
  },
  {
   "cell_type": "markdown",
   "metadata": {
    "id": "jKQO9wtB8Pc0"
   },
   "source": [
    "### III. Handling Imbalanced Dataset\n",
    "\n",
    "**Handling imbalanced datasets** is important because imbalanced data can lead to several issues that negatively impact the performance and reliability of machine learning models. Here are some key reasons:\n",
    "\n",
    "1. **Biased Model Performance**:\n",
    "\n",
    " - Models trained on imbalanced data tend to be biased towards the majority class, leading to poor performance on the minority class. This can result in misleading accuracy metrics.\n",
    "\n",
    "2. **Misleading Accuracy**:\n",
    "\n",
    " - High overall accuracy can be misleading in imbalanced datasets. For example, if 95% of the data belongs to one class, a model that always predicts the majority class will have 95% accuracy but will fail to identify the minority class.\n",
    "\n",
    "3. **Poor Generalization**:\n",
    "\n",
    " - Models trained on imbalanced data may not generalize well to new, unseen data, especially if the minority class is underrepresented.\n",
    "\n",
    "\n",
    "Some methods to handle imbalanced datasets:\n",
    "1. **Resampling Methods**:\n",
    "\n",
    " - Oversampling: Increase the number of instances in the minority class by duplicating or generating synthetic samples (e.g., SMOTE).\n",
    " - Undersampling: Reduce the number of instances in the majority class to balance the dataset.\n",
    "\n",
    "2. **Evaluation Metrics**:\n",
    "\n",
    " - Use appropriate evaluation metrics such as precision, recall, F1-score, ROC-AUC, and confusion matrix instead of accuracy to better assess model performance on imbalanced data.\n",
    "\n",
    "3. **Algorithmic Approaches**:\n",
    "\n",
    " - Use algorithms that are designed to handle imbalanced data, such as decision trees, random forests, or ensemble methods.\n",
    " - Adjust class weights in algorithms to give more importance to the minority class."
   ]
  },
  {
   "cell_type": "code",
   "execution_count": 14,
   "metadata": {
    "id": "u2BQd2XJ9W1i"
   },
   "outputs": [],
   "source": [
    "# Write your code here"
   ]
  },
  {
   "cell_type": "markdown",
   "metadata": {
    "id": "-ctVzt5DLfHd"
   },
   "source": [
    "# 3. Compile Preprocessing Pipeline\n",
    "\n",
    "All of the preprocessing classes or functions defined earlier will be compiled in this step."
   ]
  },
  {
   "cell_type": "markdown",
   "metadata": {
    "id": "S_ZlncSVjJG6"
   },
   "source": [
    "If you use sklearn to create preprocessing classes, you can list your preprocessing classes in the Pipeline object sequentially, and then fit and transform your data."
   ]
  },
  {
   "cell_type": "code",
   "execution_count": null,
   "metadata": {
    "id": "jHraoW_7LfHd"
   },
   "outputs": [],
   "source": [
    "# from sklearn.pipeline import Pipeline\n",
    "\n",
    "# # Note: You can add or delete preprocessing components from this pipeline\n",
    "\n",
    "# pipe = Pipeline([(\"imputer\", FeatureImputer()),\n",
    "#                  (\"featurecreator\", FeatureCreator()),\n",
    "#                  (\"scaler\", FeatureScaler()),\n",
    "#                  (\"encoder\", FeatureEncoder())])\n",
    "\n",
    "# train_set = pipe.fit_transform(train_set)\n",
    "# val_set = pipe.transform(val_set)"
   ]
  },
  {
   "cell_type": "code",
   "execution_count": null,
   "metadata": {
    "id": "9s56aFFxLfHd"
   },
   "outputs": [],
   "source": [
    "# # Your code should work up until this point\n",
    "# train_set = pipe.fit_transform(train_set)\n",
    "# val_set = pipe.transform(val_set)"
   ]
  },
  {
   "cell_type": "markdown",
   "metadata": {
    "id": "SXoCqMztjhr-"
   },
   "source": [
    "or create your own here"
   ]
  },
  {
   "cell_type": "code",
   "execution_count": null,
   "metadata": {
    "id": "7OoZ3oXEj2CW"
   },
   "outputs": [],
   "source": [
    "# Write your code here"
   ]
  },
  {
   "cell_type": "markdown",
   "metadata": {
    "id": "9A3adbZXLfHe"
   },
   "source": [
    "# 4. Modeling and Validation\n",
    "\n",
    "Modelling is the process of building your own machine learning models to solve specific problems, or in this assignment context, predicting the target feature `label`. Validation is the process of evaluating your trained model using the validation set or cross-validation method and providing some metrics that can help you decide what to do in the next iteration of development."
   ]
  },
  {
   "cell_type": "markdown",
   "metadata": {
    "id": "ZnhMNbBILfHf"
   },
   "source": [
    "## A. KNN"
   ]
  },
  {
   "cell_type": "code",
   "execution_count": null,
   "metadata": {
    "id": "KV6ICmFmlqjk"
   },
   "outputs": [],
   "source": [
    "# Type your code here"
   ]
  },
  {
   "cell_type": "markdown",
   "metadata": {
    "id": "nW0bMzkDLfHf"
   },
   "source": [
    "## B. Naive Bayes"
   ]
  },
  {
   "cell_type": "code",
   "execution_count": null,
   "metadata": {
    "id": "C_XwsN_-LfHg"
   },
   "outputs": [],
   "source": [
    "# Type your code here"
   ]
  },
  {
   "cell_type": "markdown",
   "metadata": {
    "id": "LoH2u6fOLfHh"
   },
   "source": [
    "## C. Improvements (Optional)\n",
    "\n",
    "- **Visualize the model evaluation result**\n",
    "\n",
    "This will help you to understand the details more clearly about your model's performance. From the visualization, you can see clearly if your model is leaning towards a class than the others. (Hint: confusion matrix, ROC-AUC curve, etc.)\n",
    "\n",
    "- **Explore the hyperparameters of your models**\n",
    "\n",
    "Each models have their own hyperparameters. And each of the hyperparameter have different effects on the model behaviour. You can optimize the model performance by finding the good set of hyperparameters through a process called **hyperparameter tuning**. (Hint: Grid search, random search, bayesian optimization)\n",
    "\n",
    "- **Cross-validation**\n",
    "\n",
    "Cross-validation is a critical technique in machine learning and data science for evaluating and validating the performance of predictive models. It provides a more **robust** and **reliable** evaluation method compared to a hold-out (single train-test set) validation. Though, it requires more time and computing power because of how cross-validation works. (Hint: k-fold cross-validation, stratified k-fold cross-validation, etc.)"
   ]
  },
  {
   "cell_type": "code",
   "execution_count": null,
   "metadata": {
    "id": "pg-A54yELfHh"
   },
   "outputs": [],
   "source": [
    "# Type your code here"
   ]
  },
  {
   "cell_type": "markdown",
   "metadata": {
    "id": "Li4l53DjLfHh"
   },
   "source": [
    "## D. Submission\n",
    "To predict the test set target feature and submit the results to the kaggle competition platform, do the following:\n",
    "1. Create a new pipeline instance identical to the first in Data Preprocessing\n",
    "2. With the pipeline, apply `fit_transform` to the original training set before splitting, then only apply `transform` to the test set.\n",
    "3. Retrain the model on the preprocessed training set\n",
    "4. Predict the test set\n",
    "5. Make sure the submission contains the `id` and `label` column.\n",
    "\n",
    "Note: Adjust step 1 and 2 to your implementation of the preprocessing step if you don't use pipeline API from `sklearn`."
   ]
  },
  {
   "cell_type": "code",
   "execution_count": null,
   "metadata": {
    "id": "LeqnfWc-LfHi"
   },
   "outputs": [],
   "source": [
    "# Type your code here"
   ]
  },
  {
   "cell_type": "markdown",
   "metadata": {
    "id": "R-jXvKOpLfHi"
   },
   "source": [
    "# 6. Error Analysis\n",
    "\n",
    "Based on all the process you have done until the modeling and evaluation step, write an analysis to support each steps you have taken to solve this problem. Write the analysis using the markdown block. Some questions that may help you in writing the analysis:\n",
    "\n",
    "- Does my model perform better in predicting one class than the other? If so, why is that?\n",
    "- To each models I have tried, which performs the best and what could be the reason?\n",
    "- Is it better for me to impute or drop the missing data? Why?\n",
    "- Does feature scaling help improve my model performance?\n",
    "- etc..."
   ]
  },
  {
   "cell_type": "markdown",
   "metadata": {
    "id": "tWL3nEAELfHj"
   },
   "source": [
    "`Provide your analysis here`"
   ]
  }
 ],
 "metadata": {
  "colab": {
   "provenance": [],
   "toc_visible": true
  },
  "kernelspec": {
   "display_name": "Python 3",
   "language": "python",
   "name": "python3"
  },
  "language_info": {
   "codemirror_mode": {
    "name": "ipython",
    "version": 3
   },
   "file_extension": ".py",
   "mimetype": "text/x-python",
   "name": "python",
   "nbconvert_exporter": "python",
   "pygments_lexer": "ipython3",
   "version": "3.10.11"
  }
 },
 "nbformat": 4,
 "nbformat_minor": 0
}
